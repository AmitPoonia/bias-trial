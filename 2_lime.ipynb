{
 "cells": [
  {
   "cell_type": "code",
   "execution_count": 8,
   "metadata": {},
   "outputs": [
    {
     "data": {
      "text/plain": [
       "LogisticRegression(C=0.1)"
      ]
     },
     "execution_count": 8,
     "metadata": {},
     "output_type": "execute_result"
    }
   ],
   "source": [
    "from sklearn.metrics import accuracy_score\n",
    "from sklearn.tree import DecisionTreeClassifier\n",
    "from sklearn.model_selection import train_test_split\n",
    "from sklearn.feature_extraction.text import TfidfVectorizer\n",
    "\n",
    "with open(\"augmented_data.json\", \"rb\") as fp:\n",
    "    data = json.load(fp)\n",
    "    \n",
    "corpus = list(map(lambda t: t[\"sample\"][\"text\"] + \" \" + t[\"metadata\"][\"gender\"], data))\n",
    "y = list(map(lambda t: t[\"sample\"][\"intent\"], data))\n",
    "\n",
    "corpus_train, corpus_test, y_train, y_test = train_test_split(corpus, y, test_size=0.2, random_state=7)\n",
    "\n",
    "vectorizer = TfidfVectorizer(min_df=10)\n",
    "\n",
    "X_train = vectorizer.fit_transform(corpus_train)\n",
    "X_test = vectorizer.transform(corpus_test)\n",
    "\n",
    "model = sklearn.linear_model.LogisticRegression(C=0.1)\n",
    "model.fit(X_train, y_train)\n"
   ]
  },
  {
   "cell_type": "code",
   "execution_count": 9,
   "metadata": {},
   "outputs": [
    {
     "data": {
      "text/html": [
       "[('Does', -0.015955132395859283), ('the', 0.010715532697917491), ('Male', -0.002183609918607036), ('only', 0.0014157939853107714), ('s', -0.0002833582175185159), ('serve', -0.00020084349810234607)]"
      ],
      "text/plain": [
       "[('Does', -0.015955132395859283),\n",
       " ('the', 0.010715532697917491),\n",
       " ('Male', -0.002183609918607036),\n",
       " ('only', 0.0014157939853107714),\n",
       " ('s', -0.0002833582175185159),\n",
       " ('serve', -0.00020084349810234607)]"
      ]
     },
     "execution_count": 9,
     "metadata": {},
     "output_type": "execute_result"
    }
   ],
   "source": [
    "from lime import lime_text\n",
    "from sklearn.pipeline import make_pipeline\n",
    "from lime.lime_text import LimeTextExplainer\n",
    "\n",
    "c = make_pipeline(vectorizer, model)\n",
    "\n",
    "explainer = LimeTextExplainer(class_names=model.classes_)\n",
    "\n",
    "idx = 8\n",
    "exp = explainer.explain_instance(corpus_test[idx], c.predict_proba, num_features=6)\n",
    "\n",
    "exp.as_list()\n"
   ]
  },
  {
   "cell_type": "code",
   "execution_count": 7,
   "metadata": {},
   "outputs": [
    {
     "data": {
      "image/png": "[encoded data removed]",
      "text/plain": [
       "<Figure size 432x288 with 1 Axes>"
      ]
     },
     "metadata": {
      "needs_background": "light"
     },
     "output_type": "display_data"
    }
   ],
   "source": [
    "%matplotlib inline\n",
    "fig = exp.as_pyplot_figure()"
   ]
  },
  {
   "cell_type": "code",
   "execution_count": null,
   "metadata": {},
   "outputs": [],
   "source": []
  }
 ],
 "metadata": {
  "kernelspec": {
   "display_name": "Python 3",
   "language": "python",
   "name": "python3"
  },
  "language_info": {
   "codemirror_mode": {
    "name": "ipython",
    "version": 3
   },
   "file_extension": ".py",
   "mimetype": "text/x-python",
   "name": "python",
   "nbconvert_exporter": "python",
   "pygments_lexer": "ipython3",
   "version": "3.7.5"
  }
 },
 "nbformat": 4,
 "nbformat_minor": 4
}
